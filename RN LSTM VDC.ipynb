{
 "cells": [
  {
   "attachments": {},
   "cell_type": "markdown",
   "metadata": {},
   "source": [
    "El presente análisis de series temporales se basa en el volumen de venta de Diezmillo Choice en el periodo que comprende del 01-01-2015 al 22-09-2020, la base se compone de 2047 registros.\n",
    "\n",
    "Las caracteristicas son la Fecha y el volumen de venta.\n",
    "\n",
    "Los datos pertenecen a un particular."
   ]
  },
  {
   "cell_type": "markdown",
   "metadata": {},
   "source": [
    "Presenta: Carlos Alberto Rábago Figueroa"
   ]
  },
  {
   "cell_type": "markdown",
   "metadata": {},
   "source": [
    "#### Importando Librerias necesarias"
   ]
  },
  {
   "cell_type": "code",
   "execution_count": 102,
   "metadata": {},
   "outputs": [],
   "source": [
    "#Core Keras libraries\n",
    "from keras.models import Sequential\n",
    "from keras.layers import Dense, Dropout\n",
    "from keras.layers import LSTM\n",
    "from keras.layers import Bidirectional\n",
    "\n",
    "#For data conditioning\n",
    "from scipy.ndimage import gaussian_filter1d\n",
    "from scipy.signal import medfilt\n",
    "\n",
    "# Make results reproducible\n",
    "from numpy.random import seed\n",
    "seed(1)\n",
    "import tensorflow\n",
    "tensorflow.random.set_seed(1)"
   ]
  },
  {
   "cell_type": "code",
   "execution_count": 103,
   "metadata": {},
   "outputs": [],
   "source": [
    "# Other essential libraries\n",
    "import matplotlib.pyplot as plt\n",
    "import pandas as pd\n",
    "from sklearn.preprocessing import MinMaxScaler\n",
    "from sklearn.metrics import mean_squared_error\n",
    "from sklearn.metrics import r2_score\n",
    "from numpy import array\n",
    "\n",
    "# Make our plot a bit formal\n",
    "font = {'family' : 'Calibri',\n",
    "        'weight' : 'normal',\n",
    "        'size'   : 10}\n",
    "plt.rc('font', **font)"
   ]
  },
  {
   "cell_type": "code",
   "execution_count": 104,
   "metadata": {},
   "outputs": [],
   "source": [
    "# Set input number of timestamps and training days\n",
    "\n",
    "n_timestamp = 10\n",
    "train_days = 1535  # number of days to train from\n",
    "testing_days = 512 # number of days to be predicted\n",
    "n_epochs = 50\n",
    "filter_on = 1\n",
    "\n",
    "model_type = 2"
   ]
  },
  {
   "cell_type": "markdown",
   "metadata": {},
   "source": [
    "#### Se importa el dataset"
   ]
  },
  {
   "cell_type": "code",
   "execution_count": 105,
   "metadata": {},
   "outputs": [],
   "source": [
    "dataset = pd.read_csv(\"datos.csv\")\n",
    "if filter_on == 1:\n",
    "    dataset['Volumen'] = medfilt(dataset['Volumen'], 3)\n",
    "    dataset['Volumen'] = gaussian_filter1d(dataset['Volumen'], 1.2)"
   ]
  },
  {
   "cell_type": "code",
   "execution_count": 106,
   "metadata": {
    "scrolled": true
   },
   "outputs": [
    {
     "data": {
      "text/html": [
       "<div>\n",
       "<style scoped>\n",
       "    .dataframe tbody tr th:only-of-type {\n",
       "        vertical-align: middle;\n",
       "    }\n",
       "\n",
       "    .dataframe tbody tr th {\n",
       "        vertical-align: top;\n",
       "    }\n",
       "\n",
       "    .dataframe thead th {\n",
       "        text-align: right;\n",
       "    }\n",
       "</style>\n",
       "<table border=\"1\" class=\"dataframe\">\n",
       "  <thead>\n",
       "    <tr style=\"text-align: right;\">\n",
       "      <th></th>\n",
       "      <th>fecha</th>\n",
       "      <th>Volumen</th>\n",
       "    </tr>\n",
       "  </thead>\n",
       "  <tbody>\n",
       "    <tr>\n",
       "      <th>0</th>\n",
       "      <td>2015-01-02</td>\n",
       "      <td>28.151975</td>\n",
       "    </tr>\n",
       "    <tr>\n",
       "      <th>1</th>\n",
       "      <td>2015-01-03</td>\n",
       "      <td>30.689112</td>\n",
       "    </tr>\n",
       "    <tr>\n",
       "      <th>2</th>\n",
       "      <td>2015-01-04</td>\n",
       "      <td>28.253833</td>\n",
       "    </tr>\n",
       "    <tr>\n",
       "      <th>3</th>\n",
       "      <td>2015-01-05</td>\n",
       "      <td>20.036879</td>\n",
       "    </tr>\n",
       "    <tr>\n",
       "      <th>4</th>\n",
       "      <td>2015-01-06</td>\n",
       "      <td>12.873568</td>\n",
       "    </tr>\n",
       "    <tr>\n",
       "      <th>...</th>\n",
       "      <td>...</td>\n",
       "      <td>...</td>\n",
       "    </tr>\n",
       "    <tr>\n",
       "      <th>1495</th>\n",
       "      <td>2019-03-15</td>\n",
       "      <td>14.985238</td>\n",
       "    </tr>\n",
       "    <tr>\n",
       "      <th>1496</th>\n",
       "      <td>2019-03-16</td>\n",
       "      <td>16.266488</td>\n",
       "    </tr>\n",
       "    <tr>\n",
       "      <th>1497</th>\n",
       "      <td>2019-03-17</td>\n",
       "      <td>16.629583</td>\n",
       "    </tr>\n",
       "    <tr>\n",
       "      <th>1498</th>\n",
       "      <td>2019-03-18</td>\n",
       "      <td>15.196382</td>\n",
       "    </tr>\n",
       "    <tr>\n",
       "      <th>1499</th>\n",
       "      <td>2019-03-19</td>\n",
       "      <td>12.556375</td>\n",
       "    </tr>\n",
       "  </tbody>\n",
       "</table>\n",
       "<p>1500 rows × 2 columns</p>\n",
       "</div>"
      ],
      "text/plain": [
       "           fecha    Volumen\n",
       "0     2015-01-02  28.151975\n",
       "1     2015-01-03  30.689112\n",
       "2     2015-01-04  28.253833\n",
       "3     2015-01-05  20.036879\n",
       "4     2015-01-06  12.873568\n",
       "...          ...        ...\n",
       "1495  2019-03-15  14.985238\n",
       "1496  2019-03-16  16.266488\n",
       "1497  2019-03-17  16.629583\n",
       "1498  2019-03-18  15.196382\n",
       "1499  2019-03-19  12.556375\n",
       "\n",
       "[1500 rows x 2 columns]"
      ]
     },
     "execution_count": 106,
     "metadata": {},
     "output_type": "execute_result"
    }
   ],
   "source": [
    "dataset.head(1500)"
   ]
  },
  {
   "cell_type": "markdown",
   "metadata": {},
   "source": [
    "#### Se establece el conjunto de datos de entrenamiento y de prueba"
   ]
  },
  {
   "cell_type": "code",
   "execution_count": 107,
   "metadata": {},
   "outputs": [],
   "source": [
    "# Set number of training and testing data\n",
    "\n",
    "train_set = dataset[0:train_days].reset_index(drop=True)\n",
    "test_set = dataset[train_days: train_days+testing_days].reset_index(drop=True)\n",
    "training_set = train_set.iloc[:, 1:2].values\n",
    "testing_set = test_set.iloc[:, 1:2].values"
   ]
  },
  {
   "cell_type": "markdown",
   "metadata": {},
   "source": [
    "#### Normalización de datos"
   ]
  },
  {
   "cell_type": "code",
   "execution_count": 108,
   "metadata": {},
   "outputs": [],
   "source": [
    "# Normalize data first\n",
    "\n",
    "sc = MinMaxScaler(feature_range = (0, 1))\n",
    "training_set_scaled = sc.fit_transform(training_set)\n",
    "testing_set_scaled = sc.fit_transform(testing_set)\n"
   ]
  },
  {
   "cell_type": "markdown",
   "metadata": {},
   "source": [
    "#### Se dividen los datos en el registro de tiempo"
   ]
  },
  {
   "cell_type": "code",
   "execution_count": 109,
   "metadata": {},
   "outputs": [
    {
     "data": {
      "text/plain": [
       "(1525, 10, 1)"
      ]
     },
     "execution_count": 109,
     "metadata": {},
     "output_type": "execute_result"
    }
   ],
   "source": [
    "# Split data into n_timestamp\n",
    "\n",
    "def data_split(sequence, n_timestamp):\n",
    "    X = []\n",
    "    y = []\n",
    "    for i in range(len(sequence)):\n",
    "        end_ix = i + n_timestamp\n",
    "        if end_ix > len(sequence)-1:\n",
    "            break\n",
    "        # i to end_ix as input\n",
    "        # end_ix as target output\n",
    "        seq_x, seq_y = sequence[i:end_ix], sequence[end_ix]\n",
    "        X.append(seq_x)\n",
    "        y.append(seq_y)\n",
    "    return array(X), array(y)\n",
    "\n",
    "\n",
    "X_train, y_train = data_split(training_set_scaled, n_timestamp)\n",
    "X_train = X_train.reshape(X_train.shape[0], X_train.shape[1], 1)\n",
    "X_test, y_test = data_split(testing_set_scaled, n_timestamp)\n",
    "X_test = X_test.reshape(X_test.shape[0], X_test.shape[1], 1)\n",
    "\n",
    "X_train.shape"
   ]
  },
  {
   "cell_type": "markdown",
   "metadata": {},
   "source": [
    "#### Configuracion de la red neuronal (Normal LSTM normal, Bidireccional y Stacked)"
   ]
  },
  {
   "cell_type": "code",
   "execution_count": 110,
   "metadata": {},
   "outputs": [],
   "source": [
    "if model_type == 1:\n",
    "    # Single cell LSTM\n",
    "    model = Sequential()\n",
    "    model.add(LSTM(units = 50, activation='relu',input_shape = (X_train.shape[1], 1)))\n",
    "    model.add(Dense(units = 1))\n",
    "if model_type == 2:\n",
    "    # Stacked LSTM\n",
    "    model = Sequential()\n",
    "    model.add(LSTM(50, activation='relu', return_sequences=True, input_shape=(X_train.shape[1], 1)))\n",
    "    model.add(LSTM(50, activation='relu'))\n",
    "    model.add(Dense(1))\n",
    "if model_type == 3:\n",
    "    # Bidirectional LSTM\n",
    "    model = Sequential()\n",
    "    model.add(Bidirectional(LSTM(50, activation='relu'), input_shape=(X_train.shape[1], 1)))\n",
    "    model.add(Dense(1))"
   ]
  },
  {
   "cell_type": "markdown",
   "metadata": {},
   "source": [
    "#### Inicia el entrenamiento"
   ]
  },
  {
   "cell_type": "code",
   "execution_count": 111,
   "metadata": {
    "scrolled": true
   },
   "outputs": [
    {
     "name": "stdout",
     "output_type": "stream",
     "text": [
      "Epoch 1/50\n",
      "24/24 [==============================] - 8s 32ms/step - loss: 0.0794: 0s - loss: 0.080\n",
      "Epoch 2/50\n",
      "24/24 [==============================] - 1s 32ms/step - loss: 0.0181\n",
      "Epoch 3/50\n",
      "24/24 [==============================] - 1s 32ms/step - loss: 0.0129\n",
      "Epoch 4/50\n",
      "24/24 [==============================] - 1s 32ms/step - loss: 0.0127\n",
      "Epoch 5/50\n",
      "24/24 [==============================] - 1s 33ms/step - loss: 0.0119\n",
      "Epoch 6/50\n",
      "24/24 [==============================] - 1s 35ms/step - loss: 0.0128: 0s - loss: 0.\n",
      "Epoch 7/50\n",
      "24/24 [==============================] - 1s 35ms/step - loss: 0.0130\n",
      "Epoch 8/50\n",
      "24/24 [==============================] - 1s 32ms/step - loss: 0.0124\n",
      "Epoch 9/50\n",
      "24/24 [==============================] - 1s 32ms/step - loss: 0.0120\n",
      "Epoch 10/50\n",
      "24/24 [==============================] - 1s 32ms/step - loss: 0.0124\n",
      "Epoch 11/50\n",
      "24/24 [==============================] - 1s 32ms/step - loss: 0.0124\n",
      "Epoch 12/50\n",
      "24/24 [==============================] - 1s 32ms/step - loss: 0.0115\n",
      "Epoch 13/50\n",
      "24/24 [==============================] - 1s 32ms/step - loss: 0.0113\n",
      "Epoch 14/50\n",
      "24/24 [==============================] - 1s 32ms/step - loss: 0.0108\n",
      "Epoch 15/50\n",
      "24/24 [==============================] - 1s 37ms/step - loss: 0.0099\n",
      "Epoch 16/50\n",
      "24/24 [==============================] - 1s 32ms/step - loss: 0.0094\n",
      "Epoch 17/50\n",
      "24/24 [==============================] - 1s 35ms/step - loss: 0.0099\n",
      "Epoch 18/50\n",
      "24/24 [==============================] - 1s 34ms/step - loss: 0.0080\n",
      "Epoch 19/50\n",
      "24/24 [==============================] - 1s 34ms/step - loss: 0.0089\n",
      "Epoch 20/50\n",
      "24/24 [==============================] - 1s 32ms/step - loss: 0.0085\n",
      "Epoch 21/50\n",
      "24/24 [==============================] - 1s 32ms/step - loss: 0.0086\n",
      "Epoch 22/50\n",
      "24/24 [==============================] - 1s 32ms/step - loss: 0.0082\n",
      "Epoch 23/50\n",
      "24/24 [==============================] - 1s 32ms/step - loss: 0.0075\n",
      "Epoch 24/50\n",
      "24/24 [==============================] - 1s 34ms/step - loss: 0.0073\n",
      "Epoch 25/50\n",
      "24/24 [==============================] - 1s 33ms/step - loss: 0.0072\n",
      "Epoch 26/50\n",
      "24/24 [==============================] - 1s 35ms/step - loss: 0.0059\n",
      "Epoch 27/50\n",
      "24/24 [==============================] - 1s 35ms/step - loss: 0.0056\n",
      "Epoch 28/50\n",
      "24/24 [==============================] - 1s 34ms/step - loss: 0.0053\n",
      "Epoch 29/50\n",
      "24/24 [==============================] - 1s 34ms/step - loss: 0.0047\n",
      "Epoch 30/50\n",
      "24/24 [==============================] - 1s 33ms/step - loss: 0.0041\n",
      "Epoch 31/50\n",
      "24/24 [==============================] - 1s 33ms/step - loss: 0.0041\n",
      "Epoch 32/50\n",
      "24/24 [==============================] - 1s 32ms/step - loss: 0.0040\n",
      "Epoch 33/50\n",
      "24/24 [==============================] - 1s 32ms/step - loss: 0.0033\n",
      "Epoch 34/50\n",
      "24/24 [==============================] - 1s 32ms/step - loss: 0.0029\n",
      "Epoch 35/50\n",
      "24/24 [==============================] - 1s 32ms/step - loss: 0.0022\n",
      "Epoch 36/50\n",
      "24/24 [==============================] - 1s 31ms/step - loss: 0.0021\n",
      "Epoch 37/50\n",
      "24/24 [==============================] - 1s 32ms/step - loss: 0.0018\n",
      "Epoch 38/50\n",
      "24/24 [==============================] - 1s 32ms/step - loss: 0.0022\n",
      "Epoch 39/50\n",
      "24/24 [==============================] - 1s 34ms/step - loss: 0.0016\n",
      "Epoch 40/50\n",
      "24/24 [==============================] - 1s 33ms/step - loss: 0.0015\n",
      "Epoch 41/50\n",
      "24/24 [==============================] - 1s 33ms/step - loss: 0.0013\n",
      "Epoch 42/50\n",
      "24/24 [==============================] - 1s 32ms/step - loss: 0.0011\n",
      "Epoch 43/50\n",
      "24/24 [==============================] - 1s 32ms/step - loss: 0.0017\n",
      "Epoch 44/50\n",
      "24/24 [==============================] - 1s 33ms/step - loss: 0.0012\n",
      "Epoch 45/50\n",
      "24/24 [==============================] - 1s 32ms/step - loss: 9.4231e-04\n",
      "Epoch 46/50\n",
      "24/24 [==============================] - 1s 32ms/step - loss: 8.9794e-04\n",
      "Epoch 47/50\n",
      "24/24 [==============================] - 1s 32ms/step - loss: 9.4363e-04\n",
      "Epoch 48/50\n",
      "24/24 [==============================] - 1s 32ms/step - loss: 0.0014\n",
      "Epoch 49/50\n",
      "24/24 [==============================] - 1s 33ms/step - loss: 0.0011\n",
      "Epoch 50/50\n",
      "24/24 [==============================] - 1s 32ms/step - loss: 7.7555e-04\n"
     ]
    }
   ],
   "source": [
    "# Start training\n",
    "\n",
    "model.compile(optimizer = 'adam', loss = 'mean_squared_error')\n",
    "history = model.fit(X_train, y_train, epochs = n_epochs, batch_size = 64)\n",
    "loss = history.history['loss']\n",
    "epochs = range(len(loss))"
   ]
  },
  {
   "cell_type": "markdown",
   "metadata": {},
   "source": [
    "#### Obtener predicción"
   ]
  },
  {
   "cell_type": "code",
   "execution_count": 112,
   "metadata": {},
   "outputs": [],
   "source": [
    "# Get predicted data\n",
    "\n",
    "y_predicted = model.predict(X_test)\n",
    "\n",
    "# 'De-normalize' the data\n",
    "\n",
    "y_predicted_descaled = sc.inverse_transform(y_predicted)\n",
    "y_train_descaled = sc.inverse_transform(y_train)\n",
    "y_test_descaled = sc.inverse_transform(y_test)\n",
    "y_pred = y_predicted.ravel()\n",
    "y_pred = [round(yx, 2) for yx in y_pred]\n",
    "y_tested = y_test.ravel()"
   ]
  },
  {
   "cell_type": "markdown",
   "metadata": {},
   "source": [
    "#### Mostrar resultados"
   ]
  },
  {
   "cell_type": "code",
   "execution_count": 113,
   "metadata": {
    "scrolled": true
   },
   "outputs": [
    {
     "data": {
      "image/png": "[encoded data removed]",
      "text/plain": [
       "<Figure size 576x504 with 6 Axes>"
      ]
     },
     "metadata": {
      "needs_background": "light"
     },
     "output_type": "display_data"
    },
    {
     "name": "stdout",
     "output_type": "stream",
     "text": [
      "mse=2.02\n",
      "r2=0.93\n"
     ]
    }
   ],
   "source": [
    "# Show results\n",
    "\n",
    "plt.figure(figsize=(8,7))\n",
    "\n",
    "plt.subplot(3, 1, 1)\n",
    "plt.plot(dataset['Volumen'], color = 'black', linewidth=1, label = 'True value')\n",
    "plt.ylabel(\"Volumen\")\n",
    "plt.xlabel(\"Día\")\n",
    "plt.title(\"Todos los datos\")\n",
    "\n",
    "plt.subplot(3, 2, 3)\n",
    "plt.plot(y_test_descaled, color = 'black', linewidth=1, label = 'True value')\n",
    "plt.plot(y_predicted_descaled, color = 'red',  linewidth=1, label = 'Predicted')\n",
    "plt.legend(frameon=False)\n",
    "plt.ylabel(\"Volumen\")\n",
    "plt.xlabel(\"Día\")\n",
    "plt.title(\"Predicción de datos (n días)\")\n",
    "\n",
    "plt.subplot(3, 2, 4)\n",
    "plt.plot(y_test_descaled[0:100], color = 'black', linewidth=1, label = 'True value')\n",
    "plt.plot(y_predicted_descaled[0:100], color = 'red', label = 'Predicted')\n",
    "plt.legend(frameon=False)\n",
    "plt.ylabel(\"Volumen\")\n",
    "plt.xlabel(\"Day\")\n",
    "plt.title(\"Predicción de datos  (peimeros 100 días)\")\n",
    "\n",
    "plt.subplot(3, 3, 7)\n",
    "plt.plot(epochs, loss, color='black')\n",
    "plt.ylabel(\"Loss (MSE)\")\n",
    "plt.xlabel(\"Epoch\")\n",
    "plt.title(\"Training curve\")\n",
    "\n",
    "plt.subplot(3, 3, 8)\n",
    "plt.plot(y_test_descaled-y_predicted_descaled, color='black')\n",
    "plt.ylabel(\"Residual\")\n",
    "plt.xlabel(\"Day\")\n",
    "plt.title(\"Residual plot\")\n",
    "\n",
    "plt.subplot(3, 3, 9)\n",
    "plt.scatter(y_predicted_descaled, y_test_descaled, s=2, color='black')\n",
    "plt.ylabel(\"Y true\")\n",
    "plt.xlabel(\"Y predicted\")\n",
    "plt.title(\"Scatter plot\")\n",
    "\n",
    "plt.subplots_adjust(hspace = 0.5, wspace=0.3)\n",
    "plt.show()\n",
    "\n",
    "\n",
    "\n",
    "mse = mean_squared_error(y_test_descaled, y_predicted_descaled)\n",
    "r2 = r2_score(y_test_descaled, y_predicted_descaled)\n",
    "print(\"mse=\" + str(round(mse,2)))\n",
    "print(\"r2=\" + str(round(r2,2)))"
   ]
  },
  {
   "cell_type": "code",
   "execution_count": null,
   "metadata": {},
   "outputs": [],
   "source": []
  }
 ],
 "metadata": {
  "kernelspec": {
   "display_name": "Python 3",
   "language": "python",
   "name": "python3"
  },
  "language_info": {
   "codemirror_mode": {
    "name": "ipython",
    "version": 3
   },
   "file_extension": ".py",
   "mimetype": "text/x-python",
   "name": "python",
   "nbconvert_exporter": "python",
   "pygments_lexer": "ipython3",
   "version": "3.8.5"
  }
 },
 "nbformat": 4,
 "nbformat_minor": 4
}
